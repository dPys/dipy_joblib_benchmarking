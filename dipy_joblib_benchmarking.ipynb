{
 "cells": [
  {
   "cell_type": "code",
   "execution_count": 28,
   "metadata": {},
   "outputs": [
    {
     "name": "stdout",
     "output_type": "stream",
     "text": [
      "The line_profiler extension is already loaded. To reload it, use:\n",
      "  %reload_ext line_profiler\n"
     ]
    }
   ],
   "source": [
    "import warnings\n",
    "warnings.filterwarnings(\"ignore\")\n",
    "from dipy.core.gradients import gradient_table\n",
    "from dipy.data import get_sphere, get_fnames\n",
    "from dipy.io.gradients import read_bvals_bvecs\n",
    "from dipy.io.image import load_nifti, load_nifti_data\n",
    "from dipy.reconst import sfm\n",
    "from dipy.reconst.csdeconv import auto_response_ssst\n",
    "from dipy.tracking import utils\n",
    "from numpy.linalg import inv\n",
    "%load_ext line_profiler\n",
    "%load_ext memory_profiler"
   ]
  },
  {
   "cell_type": "code",
   "execution_count": 2,
   "metadata": {},
   "outputs": [],
   "source": [
    "hardi_fname, hardi_bval_fname, hardi_bvec_fname = get_fnames('stanford_hardi')\n",
    "label_fname = get_fnames('stanford_labels')\n",
    "\n",
    "data, affine, hardi_img = load_nifti(hardi_fname, return_img=True)\n",
    "labels = load_nifti_data(label_fname)\n",
    "bvals, bvecs = read_bvals_bvecs(hardi_bval_fname, hardi_bvec_fname)\n",
    "gtab = gradient_table(bvals, bvecs)"
   ]
  },
  {
   "cell_type": "code",
   "execution_count": 3,
   "metadata": {},
   "outputs": [],
   "source": [
    "white_matter = (labels == 1) | (labels == 2)"
   ]
  },
  {
   "cell_type": "code",
   "execution_count": 4,
   "metadata": {},
   "outputs": [],
   "source": [
    "response, ratio = auto_response_ssst(gtab, data, fa_thr=0.2)"
   ]
  },
  {
   "cell_type": "code",
   "execution_count": 23,
   "metadata": {},
   "outputs": [],
   "source": [
    "sphere = get_sphere()\n",
    "sfmodel = sfm.SparseFascicleModel(gtab, sphere=sphere, l1_ratio=0.5, alpha=0.001, response=response[0])"
   ]
  },
  {
   "cell_type": "code",
   "execution_count": 29,
   "metadata": {},
   "outputs": [
    {
     "name": "stdout",
     "output_type": "stream",
     "text": [
      "CPUs: 1\n",
      "peak memory: 1932.80 MiB, increment: 1805.14 MiB\n",
      "CPU times: user 1h 19min 48s, sys: 15min 29s, total: 1h 35min 18s\n",
      "Wall time: 18min 5s\n",
      "CPUs: 2\n",
      "peak memory: 2223.09 MiB, increment: 2031.77 MiB\n",
      "CPU times: user 1h 19min 50s, sys: 13min 36s, total: 1h 33min 26s\n",
      "Wall time: 16min 4s\n",
      "CPUs: 4\n",
      "peak memory: 2345.35 MiB, increment: 1441.85 MiB\n",
      "CPU times: user 1h 16min 28s, sys: 14min 21s, total: 1h 30min 50s\n",
      "Wall time: 15min 36s\n",
      "CPUs: 8\n",
      "peak memory: 2257.62 MiB, increment: 1330.08 MiB\n",
      "CPU times: user 1h 19min 40s, sys: 14min 18s, total: 1h 33min 59s\n",
      "Wall time: 16min 5s\n"
     ]
    }
   ],
   "source": [
    "n_procs_list = [1, 2, 4, 8]\n",
    "\n",
    "def profile_fit(sfmodel, data, white_matter, n_procs):\n",
    "    print(f\"CPUs: {n_procs}\")\n",
    "    %memit sfmodel.fit(data, mask=white_matter, num_processes=n_procs)\n",
    "    return\n",
    "\n",
    "def loop_runs(sfmodel, data, white_matter, n_procs_list):\n",
    "    for n_procs in n_procs_list:\n",
    "        %time profile_fit(sfmodel, data, white_matter, n_procs)\n",
    "    return\n",
    "\n",
    "loop_runs(sfmodel, data, white_matter, n_procs_list)"
   ]
  },
  {
   "cell_type": "code",
   "execution_count": 30,
   "metadata": {},
   "outputs": [
    {
     "ename": "SyntaxError",
     "evalue": "can't assign to operator (<ipython-input-30-dae6afadcd8a>, line 1)",
     "output_type": "error",
     "traceback": [
      "\u001b[0;36m  File \u001b[0;32m\"<ipython-input-30-dae6afadcd8a>\"\u001b[0;36m, line \u001b[0;32m1\u001b[0m\n\u001b[0;31m    p = 14.62 / 14.73 = .99\u001b[0m\n\u001b[0m       ^\u001b[0m\n\u001b[0;31mSyntaxError\u001b[0m\u001b[0;31m:\u001b[0m can't assign to operator\n"
     ]
    }
   ],
   "source": [
    "p = 14.62 / 14.73 = .99"
   ]
  },
  {
   "cell_type": "markdown",
   "metadata": {},
   "source": [
    "What sort of speedup can we potentially get with joblib? \n",
    "\n",
    "With N=8 on my laptop, the speedup as follows:\n",
    "Speedup = 1/((1-p) + p/N) = 1/((1-p) + p/8) = "
   ]
  }
 ],
 "metadata": {
  "kernelspec": {
   "display_name": "Python 3",
   "language": "python",
   "name": "python3"
  },
  "language_info": {
   "codemirror_mode": {
    "name": "ipython",
    "version": 3
   },
   "file_extension": ".py",
   "mimetype": "text/x-python",
   "name": "python",
   "nbconvert_exporter": "python",
   "pygments_lexer": "ipython3",
   "version": "3.7.3"
  }
 },
 "nbformat": 4,
 "nbformat_minor": 2
}
